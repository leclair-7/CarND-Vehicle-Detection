{
 "cells": [
  {
   "cell_type": "markdown",
   "metadata": {},
   "source": [
    "Project 5: Vehicle Detection\n",
    "by Lucas Hagel"
   ]
  },
  {
   "cell_type": "code",
   "execution_count": 1,
   "metadata": {},
   "outputs": [
    {
     "name": "stderr",
     "output_type": "stream",
     "text": [
      "/home/ron/anaconda3/lib/python3.6/site-packages/sklearn/cross_validation.py:41: DeprecationWarning: This module was deprecated in version 0.18 in favor of the model_selection module into which all the refactored classes and functions are moved. Also note that the interface of the new CV iterators are different from that of this module. This module will be removed in 0.20.\n",
      "  \"This module will be removed in 0.20.\", DeprecationWarning)\n"
     ]
    }
   ],
   "source": [
    "import pickle, glob\n",
    "import numpy as np\n",
    "import cv2\n",
    "import time\n",
    "import matplotlib.pyplot as plt\n",
    "import matplotlib.image as mpimg\n",
    "import importlib\n",
    "from sklearn.utils import shuffle\n",
    "from skimage.feature import hog\n",
    "from scipy.ndimage.measurements import label\n",
    "from sklearn.svm import LinearSVC\n",
    "from sklearn.preprocessing import StandardScaler\n",
    "\n",
    "from sklearn.cross_validation import train_test_split\n",
    "\n",
    "from vehicle_detection_utilities import *\n",
    "\n",
    "%matplotlib inline\n",
    "\n",
    "non_car_data_folder = \"./data/non-vehicles/Extras/*.png\"\n",
    "car_data_folder     = \"./data/vehicles/vehicles/*.png\"\n",
    "\n",
    "# Read in cars and non-cars\n",
    "car_names     = glob.glob(car_data_folder)\n",
    "non_car_names = glob.glob(non_car_data_folder)\n",
    "\n",
    "cars = []\n",
    "notcars = []\n",
    "\n",
    "for image in car_names:\n",
    "    cars.append(image)\n",
    "for image in non_car_names:\n",
    "    notcars.append(image)\n",
    "\n",
    "cars = shuffle(cars)\n",
    "notcars = shuffle(notcars)\n",
    "\n",
    "#have an equal number of train and test images\n",
    "minlen = min(len(cars),len(notcars))\n",
    "cars    = cars[:minlen]\n",
    "notcars = notcars[:minlen]\n",
    "\n",
    "\n",
    "'''\n",
    "print(\"Number of car pictures\", len(cars))\n",
    "print(\"Number of non car pictures\",len(notcars))\n",
    "'''\n",
    "def bing():\n",
    "    '''\n",
    "    This function makes a sound - to be used when model training/testing is complete\n",
    "\n",
    "    This is actually crucial for a busy person, start the NN training, and then this function\n",
    "    is called (and makes the sound) when training's done\n",
    "    '''\n",
    "    pygame_spec = importlib.util.find_spec('pygame')\n",
    "    if pygame_spec is not None:\n",
    "        import pygame\n",
    "        pygame.mixer.init()\n",
    "        soundObj = pygame.mixer.Sound('beep1.ogg')\n",
    "        soundObj.play()\n",
    "        time.sleep(2)\n",
    "        soundObj.stop()"
   ]
  },
  {
   "cell_type": "markdown",
   "metadata": {},
   "source": [
    "### have car and non-car filenames now!!!"
   ]
  },
  {
   "cell_type": "markdown",
   "metadata": {},
   "source": [
    "### To do list\n",
    "1. (CHECK) upload training images, equal numbers, \n",
    "2. Display 3 of each\n",
    "3. Get a way to test training parameters\n",
    "4. Check classification, maybe more data, maybe param tuning\n",
    "5. Method checks different color spaces (be aware of their ranges)\n",
    "6. Method that  checks parameters, the grid search thing"
   ]
  },
  {
   "cell_type": "markdown",
   "metadata": {},
   "source": [
    "# REPEATS!!!!!"
   ]
  },
  {
   "cell_type": "markdown",
   "metadata": {},
   "source": [
    "# End of REPEATS!!!!"
   ]
  },
  {
   "cell_type": "code",
   "execution_count": 2,
   "metadata": {
    "scrolled": true
   },
   "outputs": [
    {
     "name": "stdout",
     "output_type": "stream",
     "text": [
      "58.34 Seconds to extract HOG features...\n",
      "11 orientations 16 pixels per cell and 2 cells per block\n",
      "Feature vector length: 4356\n",
      "15.04 Seconds to train SVC...\n",
      "Test Accuracy of SVC =  0.9619\n",
      "My SVC predicts:  [ 1.  0.  1. ...,  0.  1.  0.]\n",
      "For these 3517 labels:  [ 1.  0.  1. ...,  0.  1.  0.]\n",
      "0.01411 Seconds to predict 3517 labels with SVC\n"
     ]
    }
   ],
   "source": [
    "iter_num = 0\n",
    "logstring = \"\"\n",
    "\n",
    "def get_feature_vector(image_filename, **parameters):\n",
    "    return get_img_features(image_filename, **parameters)\n",
    "    \n",
    "search_win_params = {\n",
    "'color_space' : 'YUV',\n",
    "'orient' : 11,\n",
    "'pix_per_cell' : 16,\n",
    "'cell_per_block' : 2,\n",
    "'hog_channel' : \"ALL\",\n",
    "'fromFile' : True\n",
    "}\n",
    "\n",
    "'''\n",
    "for colorspace in ['YUV', 'YCrCb', 'LUV']:\n",
    "    for orient in range(6,16,4):\n",
    "        for pix_per_cell in range(6,16,4):\n",
    "            for hog_channel in [0,1,2,'ALL']:\n",
    "'''\n",
    "\n",
    "                \n",
    "t=time.time()\n",
    "car_features = [get_feature_vector(i, **search_win_params) for i in cars]\n",
    "notcar_features = [get_feature_vector(i, **search_win_params) for i in notcars]\n",
    "t2 = time.time()\n",
    "hogtime = round(t2-t, 2)\n",
    "print(round(t2-t, 2), 'Seconds to extract HOG features...')\n",
    "\n",
    "# Create an array stack of feature vectors\n",
    "X = np.vstack((car_features, notcar_features)).astype(np.float64)\n",
    "\n",
    "# Label definition\n",
    "y = np.hstack((np.ones(len(car_features)), np.zeros(len(notcar_features))))\n",
    "\n",
    "'''\n",
    "Proof that train_test_split shuffles the damn thing\n",
    "http://scikit-learn.org/stable/modules/generated/sklearn.model_selection.train_test_split.html\n",
    "'''\n",
    "rand_state = np.random.randint(0, 1000)\n",
    "X_train, X_test, y_train, y_test = train_test_split(\n",
    "    X, y, test_size=0.2, random_state=rand_state)\n",
    "\n",
    "\n",
    "# Fit a per-column scaler\n",
    "X_scaler = StandardScaler().fit(X_train)\n",
    "\n",
    "X_train = X_scaler.transform(X_train)\n",
    "X_test = X_scaler.transform(X_test)\n",
    "\n",
    "logstring += \"Iteration\" + str(iter_num)\n",
    "\n",
    "print(str(search_win_params['orient']),'orientations',search_win_params['pix_per_cell'],\n",
    "    'pixels per cell and', search_win_params['cell_per_block'],'cells per block')\n",
    "print('Feature vector length:', len(X_train[0]))\n",
    "\n",
    "svc = LinearSVC()\n",
    "\n",
    "t=time.time()\n",
    "svc.fit(X_train, y_train)\n",
    "t2 = time.time()\n",
    "print(round(t2-t, 2), 'Seconds to train SVC...')\n",
    "# Check the score of the SVC\n",
    "accuracy = round(svc.score(X_test, y_test), 4)\n",
    "accuracystr = \"%.4f\" % accuracy\n",
    "print('Test Accuracy of SVC = ', round(svc.score(X_test, y_test), 4))\n",
    "# Check the prediction time for a single sample\n",
    "t=time.time()\n",
    "n_predict = len(X_test)\n",
    "print('My SVC predicts: ', svc.predict(X_test[0:n_predict]))\n",
    "print('For these',n_predict, 'labels: ', y_test[0:n_predict])\n",
    "t2 = time.time()\n",
    "print(round(t2-t, 5), 'Seconds to predict', n_predict,'labels with SVC')\n"
   ]
  },
  {
   "cell_type": "code",
   "execution_count": 4,
   "metadata": {
    "collapsed": true
   },
   "outputs": [],
   "source": [
    "import pickle\n",
    "pickle.dump(svc,open('svc_long_features.p','wb') )\n",
    "pickle.dump(X_scaler,open(\"scaler_long_features.p\", 'wb'))"
   ]
  },
  {
   "cell_type": "code",
   "execution_count": null,
   "metadata": {
    "collapsed": true
   },
   "outputs": [],
   "source": []
  }
 ],
 "metadata": {
  "kernelspec": {
   "display_name": "Python 3",
   "language": "python",
   "name": "python3"
  },
  "language_info": {
   "codemirror_mode": {
    "name": "ipython",
    "version": 3
   },
   "file_extension": ".py",
   "mimetype": "text/x-python",
   "name": "python",
   "nbconvert_exporter": "python",
   "pygments_lexer": "ipython3",
   "version": "3.6.3"
  }
 },
 "nbformat": 4,
 "nbformat_minor": 2
}
